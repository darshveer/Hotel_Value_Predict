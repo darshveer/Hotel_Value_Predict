{
 "cells": [
  {
   "cell_type": "code",
   "execution_count": 1,
   "id": "ec356ed7",
   "metadata": {},
   "outputs": [],
   "source": [
    "# ==========================\n",
    "# Imports\n",
    "# ==========================\n",
    "import pandas as pd\n",
    "import numpy as np\n",
    "from sklearn.model_selection import KFold, cross_val_score\n",
    "from sklearn.preprocessing import StandardScaler\n",
    "from sklearn.ensemble import GradientBoostingRegressor\n",
    "from sklearn.linear_model import LinearRegression\n",
    "from sklearn.pipeline import Pipeline\n",
    "from sklearn.metrics import make_scorer, mean_squared_error\n",
    "from sklearn.ensemble import StackingRegressor"
   ]
  },
  {
   "cell_type": "code",
   "execution_count": 2,
   "id": "65537abe",
   "metadata": {},
   "outputs": [],
   "source": [
    "# ==========================\n",
    "# Load Data\n",
    "# ==========================\n",
    "df = pd.read_csv(\"processed_train_data.csv\")\n",
    "train_df = train_df = pd.read_csv(\"C:/Users/Mihir S Kagalkar/OneDrive - iiit-b/SEM-5/ML/PROJECT/Hotel-Property-Value-Dataset/train.csv\")\n",
    "\n",
    "TARGET_COL = \"HotelValue\"\n",
    "\n",
    "X = df\n",
    "y = train_df[TARGET_COL]\n"
   ]
  },
  {
   "cell_type": "code",
   "execution_count": 3,
   "id": "2ade5f0a",
   "metadata": {},
   "outputs": [
    {
     "name": "stdout",
     "output_type": "stream",
     "text": [
      "RMSE for each fold: [27252.70315106 25783.95015133 21892.41840719 26536.72487855\n",
      " 36487.52781216]\n",
      "Average RMSE: 27590.66488005746\n"
     ]
    }
   ],
   "source": [
    "#===========================\n",
    "# Define Models\n",
    "# ==========================\n",
    "tree_model = GradientBoostingRegressor(random_state=42)\n",
    "linear_model = LinearRegression()\n",
    "\n",
    "# Combine both models using stacking (meta-ensemble)\n",
    "hybrid_model = StackingRegressor(\n",
    "    estimators=[\n",
    "        ('tree', tree_model),\n",
    "        ('linear', linear_model)\n",
    "    ],\n",
    "    final_estimator=LinearRegression()\n",
    ")\n",
    "\n",
    "# ==========================\n",
    "# Pipeline (with Scaling)\n",
    "# ==========================\n",
    "pipeline = Pipeline([\n",
    "    ('scaler', StandardScaler()),  # scales numeric features\n",
    "    ('model', hybrid_model)\n",
    "])\n",
    "\n",
    "# ==========================\n",
    "# Cross-Validation Setup\n",
    "# ==========================\n",
    "kfold = KFold(n_splits=5, shuffle=True, random_state=42)\n",
    "\n",
    "# RMSE scorer\n",
    "rmse_scorer = make_scorer(lambda y_true, y_pred:\n",
    "                          np.sqrt(mean_squared_error(y_true, y_pred)),\n",
    "                          greater_is_better=False)\n",
    "\n",
    "# ==========================\n",
    "# Cross-Validate\n",
    "# ==========================\n",
    "cv_scores = cross_val_score(pipeline, X, y, scoring=rmse_scorer, cv=kfold)\n",
    "\n",
    "print(\"RMSE for each fold:\", -cv_scores)\n",
    "print(\"Average RMSE:\", -np.mean(cv_scores))"
   ]
  }
 ],
 "metadata": {
  "kernelspec": {
   "display_name": "ml",
   "language": "python",
   "name": "python3"
  },
  "language_info": {
   "codemirror_mode": {
    "name": "ipython",
    "version": 3
   },
   "file_extension": ".py",
   "mimetype": "text/x-python",
   "name": "python",
   "nbconvert_exporter": "python",
   "pygments_lexer": "ipython3",
   "version": "3.14.0"
  }
 },
 "nbformat": 4,
 "nbformat_minor": 5
}
